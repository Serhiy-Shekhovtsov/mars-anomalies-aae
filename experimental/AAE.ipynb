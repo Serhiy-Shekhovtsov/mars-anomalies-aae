{
 "cells": [
  {
   "cell_type": "code",
   "execution_count": 1,
   "metadata": {},
   "outputs": [],
   "source": [
    "\n",
    "import os\n",
    "import numpy as np\n",
    "import math\n",
    "import itertools\n",
    "\n",
    "import torchvision.transforms as transforms\n",
    "from torchvision.utils import save_image\n",
    "\n",
    "from torch.utils.data import DataLoader\n",
    "from torchvision import datasets\n",
    "from torch.autograd import Variable\n",
    "\n",
    "import torch.nn as nn\n",
    "import torch.nn.functional as F\n",
    "import torch\n",
    "from torchsummary import summary"
   ]
  },
  {
   "cell_type": "code",
   "execution_count": 22,
   "metadata": {},
   "outputs": [],
   "source": [
    "# Device configuration\n",
    "#device = torch.device('cuda' if torch.cuda.is_available() else 'cpu')\n",
    "\n",
    "device = 'cuda'\n"
   ]
  },
  {
   "cell_type": "markdown",
   "metadata": {},
   "source": [
    "### Based on https://github.com/jellycsc/PyTorch-CIFAR-10-autoencoder "
   ]
  },
  {
   "cell_type": "code",
   "execution_count": 3,
   "metadata": {},
   "outputs": [],
   "source": [
    "class Dis(nn.Module):\n",
    "    def __init__(self):\n",
    "        super(Dis,self).__init__()\n",
    "        self.discriminator = nn.Sequential(\n",
    "                nn.Linear(64*4,64),\n",
    "                nn.LeakyReLU(0.2),\n",
    "                nn.Linear(64, 16),\n",
    "                nn.LeakyReLU(0.2),\n",
    "                nn.Linear(16,1),\n",
    "                nn.Sigmoid(),\n",
    "                ).to(device)\n",
    "    def forward(self,x):\n",
    "        x = x.to(device)\n",
    "        dis = self.discriminator\n",
    "        \n",
    "        return dis(x.view(-1,64*4))\n",
    "\n",
    "class AAutoencoder(nn.Module):\n",
    "    def __init__(self):\n",
    "        super(AAutoencoder, self).__init__()\n",
    "        \n",
    "        # Input size: [batch, 1, 32, 32]\n",
    "        # Output size: [batch, 1, 32, 32]\n",
    "        \n",
    "        self.encoder = nn.Sequential(\n",
    "            nn.Conv2d(1, 8, 4, stride=2, padding=1),            # [batch, 8, 16, 16]\n",
    "            nn.ReLU(),\n",
    "            nn.Conv2d(8, 16, 4, stride=2, padding=1),           # [batch, 16, 8, 8]\n",
    "            nn.ReLU(),\n",
    "            nn.Conv2d(16, 32, 4, stride=2, padding=1),           # [batch, 32, 4, 4]\n",
    "            nn.ReLU(),\n",
    "            nn.Conv2d(32, 64, 4, stride=2, padding=1),           # [batch, 64, 2, 2]\n",
    "            nn.ReLU(),\n",
    "        ).to(device)\n",
    "        self.decoder = nn.Sequential(\n",
    "            nn.ConvTranspose2d(64, 32, 4, stride=2, padding=1),  # [batch, 32, 4, 4]\n",
    "            nn.ReLU(),\n",
    "            nn.ConvTranspose2d(32, 16, 4, stride=2, padding=1),  # [batch, 16, 8, 8]\n",
    "            nn.ReLU(),\n",
    "            nn.ConvTranspose2d(16, 8, 4, stride=2, padding=1),  # [batch, 8, 16, 16]\n",
    "            nn.ReLU(),\n",
    "            nn.ConvTranspose2d(8, 1, 4, stride=2, padding=1),   # [batch, 1, 32, 32]\n",
    "            nn.Sigmoid(),\n",
    "        ).to(device)\n",
    "        \n",
    "        self.discriminator = Dis().to(device)\n",
    "        \n",
    "    def forward(self, x):\n",
    "        x = x.to(device)\n",
    "        encoded = self.encoder(x)\n",
    "        decoded = self.decoder(encoded)\n",
    "        discriminated = self.discriminator(encoded)\n",
    "        return encoded,decoded ,discriminated"
   ]
  },
  {
   "cell_type": "markdown",
   "metadata": {},
   "source": [
    "## Model summary\n",
    "\n",
    "Didn't found how to install torchsummary via conda. Using pip worked well for me"
   ]
  },
  {
   "cell_type": "code",
   "execution_count": 4,
   "metadata": {},
   "outputs": [
    {
     "name": "stderr",
     "output_type": "stream",
     "text": [
      "/home/austrotaxus/anaconda3/envs/marsanomalies/lib/python3.6/site-packages/torch/cuda/__init__.py:116: UserWarning: \n",
      "    Found GPU0 GeForce GTX 660 which is of cuda capability 3.0.\n",
      "    PyTorch no longer supports this GPU because it is too old.\n",
      "    \n",
      "  warnings.warn(old_gpu_warn % (d, name, major, capability[1]))\n"
     ]
    },
    {
     "name": "stdout",
     "output_type": "stream",
     "text": [
      "----------------------------------------------------------------\n",
      "        Layer (type)               Output Shape         Param #\n",
      "================================================================\n",
      "            Conv2d-1            [-1, 8, 16, 16]             136\n",
      "              ReLU-2            [-1, 8, 16, 16]               0\n",
      "            Conv2d-3             [-1, 16, 8, 8]           2,064\n",
      "              ReLU-4             [-1, 16, 8, 8]               0\n",
      "            Conv2d-5             [-1, 32, 4, 4]           8,224\n",
      "              ReLU-6             [-1, 32, 4, 4]               0\n",
      "            Conv2d-7             [-1, 64, 2, 2]          32,832\n",
      "              ReLU-8             [-1, 64, 2, 2]               0\n",
      "   ConvTranspose2d-9             [-1, 32, 4, 4]          32,800\n",
      "             ReLU-10             [-1, 32, 4, 4]               0\n",
      "  ConvTranspose2d-11             [-1, 16, 8, 8]           8,208\n",
      "             ReLU-12             [-1, 16, 8, 8]               0\n",
      "  ConvTranspose2d-13            [-1, 8, 16, 16]           2,056\n",
      "             ReLU-14            [-1, 8, 16, 16]               0\n",
      "  ConvTranspose2d-15            [-1, 1, 32, 32]             129\n",
      "          Sigmoid-16            [-1, 1, 32, 32]               0\n",
      "           Linear-17                   [-1, 64]          16,448\n",
      "        LeakyReLU-18                   [-1, 64]               0\n",
      "           Linear-19                   [-1, 16]           1,040\n",
      "        LeakyReLU-20                   [-1, 16]               0\n",
      "           Linear-21                    [-1, 1]              17\n",
      "          Sigmoid-22                    [-1, 1]               0\n",
      "              Dis-23                    [-1, 1]               0\n",
      "================================================================\n",
      "Total params: 103,954\n",
      "Trainable params: 103,954\n",
      "Non-trainable params: 0\n",
      "----------------------------------------------------------------\n",
      "Input size (MB): 0.00\n",
      "Forward/backward pass size (MB): 0.13\n",
      "Params size (MB): 0.40\n",
      "Estimated Total Size (MB): 0.53\n",
      "----------------------------------------------------------------\n"
     ]
    }
   ],
   "source": [
    "a1 = AAutoencoder()\n",
    "summary(a1,(1,32,32))"
   ]
  },
  {
   "cell_type": "markdown",
   "metadata": {},
   "source": [
    "## Load data"
   ]
  },
  {
   "cell_type": "code",
   "execution_count": 5,
   "metadata": {},
   "outputs": [
    {
     "name": "stdout",
     "output_type": "stream",
     "text": [
      "ESP_011261_1960_BG12_0.IMG  ESP_011261_1960_RED0_0.IMG\r\n"
     ]
    }
   ],
   "source": [
    "! ls data # Data must be stored in data folder"
   ]
  },
  {
   "cell_type": "code",
   "execution_count": 6,
   "metadata": {},
   "outputs": [
    {
     "name": "stderr",
     "output_type": "stream",
     "text": [
      "/home/austrotaxus/anaconda3/envs/marsanomalies/lib/python3.6/site-packages/PIL/Image.py:2618: DecompressionBombWarning: Image size (102400000 pixels) exceeds limit of 89478485 pixels, could be decompression bomb DOS attack.\n",
      "  DecompressionBombWarning)\n"
     ]
    }
   ],
   "source": [
    "from matplotlib.image import imread\n",
    "from extract_patches import *\n",
    "\n",
    "img_name = 'ESP_011261_1960_RED0_0.IMG'\n",
    "images, ids = extract_patches_from_img(img_name, patch_size=32)"
   ]
  },
  {
   "cell_type": "code",
   "execution_count": null,
   "metadata": {},
   "outputs": [],
   "source": []
  },
  {
   "cell_type": "code",
   "execution_count": 7,
   "metadata": {},
   "outputs": [],
   "source": [
    "%matplotlib inline\n",
    "import matplotlib.pyplot as plt\n",
    "\n",
    "def imshow(img):\n",
    "    plt.imshow(np.squeeze(img))"
   ]
  },
  {
   "cell_type": "code",
   "execution_count": 8,
   "metadata": {},
   "outputs": [
    {
     "data": {
      "image/png": "[encoded data removed]",
      "text/plain": [
       "<Figure size 432x288 with 1 Axes>"
      ]
     },
     "metadata": {
      "needs_background": "light"
     },
     "output_type": "display_data"
    }
   ],
   "source": [
    "imshow(images[9])"
   ]
  },
  {
   "cell_type": "code",
   "execution_count": 9,
   "metadata": {},
   "outputs": [],
   "source": [
    "import pytorch_utils as pu\n",
    "import time\n",
    "tensor_images = pu.numpy_images_to_tensor_dataset(images)\n",
    "\n",
    "# converting to range 0..1 so it can be decoded by sigmoid activation\n",
    "tensor_images = tensor_images / 255"
   ]
  },
  {
   "cell_type": "code",
   "execution_count": 10,
   "metadata": {},
   "outputs": [
    {
     "data": {
      "text/plain": [
       "torch.Size([100000, 1, 32, 32])"
      ]
     },
     "execution_count": 10,
     "metadata": {},
     "output_type": "execute_result"
    }
   ],
   "source": [
    "tensor_images.size()"
   ]
  },
  {
   "cell_type": "code",
   "execution_count": 11,
   "metadata": {},
   "outputs": [],
   "source": [
    "batch_size = 200\n",
    "\n",
    "dataset = torch.utils.data.TensorDataset(tensor_images)\n",
    "loader = torch.utils.data.DataLoader(dataset, batch_size=batch_size)"
   ]
  },
  {
   "cell_type": "markdown",
   "metadata": {},
   "source": [
    "\n",
    "\n",
    "## Optimizer parameters\n",
    "\n",
    "Probably should be tuned"
   ]
  },
  {
   "cell_type": "code",
   "execution_count": 12,
   "metadata": {},
   "outputs": [],
   "source": [
    "model = a1\n",
    "\n",
    "# Playing with parameteres is for later times\n",
    "\n",
    "#dec_lr =0.00002\n",
    "#enc_lr = 0.00002\n",
    "#dis_lr = 0.001\n",
    "\n",
    "encoder,decoder,discriminator = a1.encoder,a1.decoder,a1.discriminator\n",
    "#encode/decode optimizers\n",
    "optim_Dec = torch.optim.Adam(decoder.parameters())\n",
    "optim_Enc = torch.optim.Adam(encoder.parameters())\n",
    "#Discriminator optimizers\n",
    "optim_Dis = torch.optim.Adam(discriminator.parameters())\n",
    "\n",
    "criterion = nn.BCELoss()"
   ]
  },
  {
   "cell_type": "code",
   "execution_count": 13,
   "metadata": {},
   "outputs": [],
   "source": [
    "num_epochs = 1000"
   ]
  },
  {
   "cell_type": "code",
   "execution_count": 16,
   "metadata": {},
   "outputs": [
    {
     "name": "stdout",
     "output_type": "stream",
     "text": [
      "15:26:08: 0 batches processed. loss:0.696395\n",
      "recon_loss:0.6964 Enc_loss:0.7313 Dis_loss:1.3939\n",
      "15:26:11: 100 batches processed. loss:0.685762\n",
      "recon_loss:0.6858 Enc_loss:0.6727 Dis_loss:0.7178\n",
      "15:26:14: 200 batches processed. loss:0.689892\n",
      "recon_loss:0.6899 Enc_loss:0.7282 Dis_loss:0.6608\n",
      "15:26:18: 300 batches processed. loss:0.688611\n",
      "recon_loss:0.6886 Enc_loss:0.6918 Dis_loss:0.6983\n",
      "15:26:21: 400 batches processed. loss:0.689349\n",
      "recon_loss:0.6893 Enc_loss:0.7554 Dis_loss:0.6395\n",
      "epoch [1/1000]\n",
      "15:26:24: 0 batches processed. loss:0.686433\n",
      "recon_loss:0.6864 Enc_loss:0.6952 Dis_loss:0.6840\n",
      "15:26:27: 100 batches processed. loss:0.685338\n",
      "recon_loss:0.6853 Enc_loss:0.7041 Dis_loss:0.6770\n"
     ]
    },
    {
     "ename": "KeyboardInterrupt",
     "evalue": "",
     "output_type": "error",
     "traceback": [
      "\u001b[0;31m---------------------------------------------------------------------------\u001b[0m",
      "\u001b[0;31mKeyboardInterrupt\u001b[0m                         Traceback (most recent call last)",
      "\u001b[0;32m<ipython-input-16-85547cb391db>\u001b[0m in \u001b[0;36m<module>\u001b[0;34m\u001b[0m\n\u001b[1;32m     62\u001b[0m     \u001b[0mtorch\u001b[0m\u001b[0;34m.\u001b[0m\u001b[0msave\u001b[0m\u001b[0;34m(\u001b[0m\u001b[0mmodel\u001b[0m\u001b[0;34m.\u001b[0m\u001b[0mstate_dict\u001b[0m\u001b[0;34m(\u001b[0m\u001b[0;34m)\u001b[0m\u001b[0;34m,\u001b[0m \u001b[0;34m'./conv_autoencoder.pth'\u001b[0m\u001b[0;34m)\u001b[0m\u001b[0;34m\u001b[0m\u001b[0;34m\u001b[0m\u001b[0m\n\u001b[1;32m     63\u001b[0m \u001b[0;34m\u001b[0m\u001b[0m\n\u001b[0;32m---> 64\u001b[0;31m \u001b[0mtrain_model\u001b[0m\u001b[0;34m(\u001b[0m\u001b[0;34m)\u001b[0m\u001b[0;34m\u001b[0m\u001b[0;34m\u001b[0m\u001b[0m\n\u001b[0m",
      "\u001b[0;32m<ipython-input-16-85547cb391db>\u001b[0m in \u001b[0;36mtrain_model\u001b[0;34m()\u001b[0m\n\u001b[1;32m     46\u001b[0m             \u001b[0mD_fake_gauss\u001b[0m \u001b[0;34m=\u001b[0m \u001b[0mdiscriminator\u001b[0m\u001b[0;34m(\u001b[0m\u001b[0mz_fake_gauss\u001b[0m\u001b[0;34m)\u001b[0m\u001b[0;34m\u001b[0m\u001b[0;34m\u001b[0m\u001b[0m\n\u001b[1;32m     47\u001b[0m \u001b[0;34m\u001b[0m\u001b[0m\n\u001b[0;32m---> 48\u001b[0;31m             \u001b[0mEnc_loss\u001b[0m \u001b[0;34m=\u001b[0m \u001b[0;34m-\u001b[0m\u001b[0mtorch\u001b[0m\u001b[0;34m.\u001b[0m\u001b[0mmean\u001b[0m\u001b[0;34m(\u001b[0m\u001b[0mtorch\u001b[0m\u001b[0;34m.\u001b[0m\u001b[0mlog\u001b[0m\u001b[0;34m(\u001b[0m\u001b[0mD_fake_gauss\u001b[0m \u001b[0;34m)\u001b[0m\u001b[0;34m)\u001b[0m\u001b[0;34m\u001b[0m\u001b[0;34m\u001b[0m\u001b[0m\n\u001b[0m\u001b[1;32m     49\u001b[0m \u001b[0;34m\u001b[0m\u001b[0m\n\u001b[1;32m     50\u001b[0m             \u001b[0mEnc_loss\u001b[0m\u001b[0;34m.\u001b[0m\u001b[0mbackward\u001b[0m\u001b[0;34m(\u001b[0m\u001b[0;34m)\u001b[0m\u001b[0;34m\u001b[0m\u001b[0;34m\u001b[0m\u001b[0m\n",
      "\u001b[0;31mKeyboardInterrupt\u001b[0m: "
     ]
    }
   ],
   "source": [
    "\n",
    "def train_model():\n",
    "    model.train()\n",
    "\n",
    "    for epoch in range(num_epochs):\n",
    "        for i, (data,) in enumerate(loader):\n",
    "            data = data.to(device)\n",
    "            \n",
    "            encoder.train()\n",
    "            decoder.train()\n",
    "            \n",
    "            enc = encoder(data)\n",
    "            recon = decoder(enc)\n",
    "            dis = discriminator(enc)\n",
    "            \n",
    "            # Reconstruction Loss\n",
    "            \n",
    "            recon_loss = criterion(recon,data)\n",
    "            \n",
    "            optim_Enc.zero_grad()\n",
    "            optim_Dec.zero_grad()\n",
    "            \n",
    "            recon_loss.backward()\n",
    "            \n",
    "            optim_Enc.step()\n",
    "            optim_Dec.step()\n",
    "            \n",
    "            # Adversarial Discriminator\n",
    "            # Probably distribustion could be varied\n",
    "                    \n",
    "            encoder.eval()\n",
    "            z_real_gauss = Variable(torch.randn(data.size()[0], 64*4)).to(device)\n",
    "            D_real_gauss = discriminator(z_real_gauss)\n",
    "            \n",
    "            z_fake_gauss = encoder(data)\n",
    "            D_fake_gauss = discriminator(z_fake_gauss)\n",
    "            \n",
    "            Dis_loss = -torch.mean(torch.log(D_real_gauss) + torch.log(1 - D_fake_gauss ))\n",
    "\n",
    "            Dis_loss.backward()\n",
    "            optim_Dis.step()\n",
    "                       \n",
    "            # Encoder fool decoder\n",
    "            encoder.train()\n",
    "            z_fake_gauss = encoder(data)\n",
    "            D_fake_gauss = discriminator(z_fake_gauss)\n",
    "    \n",
    "            Enc_loss = -torch.mean(torch.log(D_fake_gauss ))\n",
    "\n",
    "            Enc_loss.backward()\n",
    "            optim_Enc.step()\n",
    "                        \n",
    "            if i % 100 == 0:\n",
    "                print(time.strftime('%X') + f': {i} batches processed. loss:{recon_loss.item():.6f}')\n",
    "                print('recon_loss:{:.4f} Enc_loss:{:.4f} Dis_loss:{:.4f}'.format(recon_loss.item(), \n",
    "                                                                       Enc_loss.item(),\n",
    "                                                                       Dis_loss.item()))\n",
    "        # log\n",
    "        #if epoch % 10 == 0:\n",
    "        print('epoch [{}/{}]'.format(epoch+1, num_epochs))\n",
    "        \n",
    "    torch.save(model.state_dict(), './conv_autoencoder.pth')\n",
    "\n",
    "train_model()"
   ]
  },
  {
   "cell_type": "code",
   "execution_count": 17,
   "metadata": {},
   "outputs": [],
   "source": [
    "model.eval()\n",
    "test_data = tensor_images[1:2]\n",
    "test_data = test_data.to(device)"
   ]
  },
  {
   "cell_type": "code",
   "execution_count": 18,
   "metadata": {},
   "outputs": [
    {
     "data": {
      "text/plain": [
       "(1, 1, 32, 32)"
      ]
     },
     "execution_count": 18,
     "metadata": {},
     "output_type": "execute_result"
    }
   ],
   "source": [
    "test_output = model(test_data)[1]\n",
    "test_output\n",
    "test_output.data.cpu().numpy().shape"
   ]
  },
  {
   "cell_type": "markdown",
   "metadata": {},
   "source": [
    "This decoder guys seems to be really bad. Not sure wat is the true reason. Probably need more computational powers, different LR or overall implementation has a bug"
   ]
  },
  {
   "cell_type": "code",
   "execution_count": 19,
   "metadata": {},
   "outputs": [
    {
     "data": {
      "image/png": "[encoded data removed]",
      "text/plain": [
       "<Figure size 432x288 with 1 Axes>"
      ]
     },
     "metadata": {
      "needs_background": "light"
     },
     "output_type": "display_data"
    }
   ],
   "source": [
    "imshow(test_output.data.cpu().numpy()[0])"
   ]
  },
  {
   "cell_type": "code",
   "execution_count": 21,
   "metadata": {},
   "outputs": [
    {
     "data": {
      "text/plain": [
       "array([[[0.46841562, 0.45117417, 0.4532387 , ..., 0.4558059 ,\n",
       "         0.4558824 , 0.45797876],\n",
       "        [0.45163915, 0.44362736, 0.44910714, ..., 0.44837376,\n",
       "         0.44756934, 0.44412124],\n",
       "        [0.4538737 , 0.44846693, 0.4577331 , ..., 0.44297263,\n",
       "         0.44563025, 0.4474371 ],\n",
       "        ...,\n",
       "        [0.4527157 , 0.44484138, 0.4406816 , ..., 0.45114747,\n",
       "         0.448059  , 0.44854578],\n",
       "        [0.45660916, 0.434992  , 0.44790125, ..., 0.43837622,\n",
       "         0.44277865, 0.4479755 ],\n",
       "        [0.4621845 , 0.4495784 , 0.45668483, ..., 0.45195964,\n",
       "         0.4554534 , 0.46235925]]], dtype=float32)"
      ]
     },
     "execution_count": 21,
     "metadata": {},
     "output_type": "execute_result"
    }
   ],
   "source": []
  },
  {
   "cell_type": "code",
   "execution_count": null,
   "metadata": {},
   "outputs": [],
   "source": []
  }
 ],
 "metadata": {
  "kernelspec": {
   "display_name": "Python [conda env:marsanomalies] *",
   "language": "python",
   "name": "conda-env-marsanomalies-py"
  },
  "language_info": {
   "codemirror_mode": {
    "name": "ipython",
    "version": 3
   },
   "file_extension": ".py",
   "mimetype": "text/x-python",
   "name": "python",
   "nbconvert_exporter": "python",
   "pygments_lexer": "ipython3",
   "version": "3.6.8"
  }
 },
 "nbformat": 4,
 "nbformat_minor": 2
}
